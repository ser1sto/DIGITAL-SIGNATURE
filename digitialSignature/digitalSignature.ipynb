{
 "cells": [
  {
   "cell_type": "markdown",
   "metadata": {},
   "source": [
    "# DIGITAL SIGNATURE"
   ]
  },
  {
   "cell_type": "markdown",
   "metadata": {},
   "source": [
    "### Imports"
   ]
  },
  {
   "cell_type": "code",
   "execution_count": 11,
   "metadata": {},
   "outputs": [],
   "source": [
    "import hashlib\n",
    "import sys\n",
    "from Crypto.PublicKey import RSA\n",
    "import Crypto\n",
    "from Crypto.Signature import pkcs1_15\n",
    "from Crypto.Hash import SHA256\n",
    "from Crypto.PublicKey import RSA\n",
    "from Crypto.Signature.pkcs1_15 import PKCS115_SigScheme\n"
   ]
  },
  {
   "cell_type": "code",
   "execution_count": 12,
   "metadata": {},
   "outputs": [
    {
     "name": "stdout",
     "output_type": "stream",
     "text": [
      "Choice: \n",
      "0 -> create digital signature\n",
      "1 -> check digital signature\n",
      "Type file name (with an extension): \n",
      "Type signature name\n",
      "Signature invalid\n"
     ]
    }
   ],
   "source": [
    "print(\"Choice: \")\n",
    "print(\"0 -> create digital signature\")\n",
    "print(\"1 -> check digital signature\")\n",
    "choice = int(input())\n",
    "\n",
    "def readingFile():\n",
    "    print(\"Type file name (with an extension): \")\n",
    "    fileName = str(input())\n",
    "    file = open(fileName , \"rb\")\n",
    "    hashed = SHA256.new(file.read())\n",
    "    return hashed\n",
    "\n",
    "\n",
    "\n",
    "\n",
    "if(choice == 0):\n",
    "    hashedFile = readingFile() \n",
    "    #keyGenerating\n",
    "\n",
    "    key = Crypto.PublicKey.RSA.generate(2048)\n",
    "    dir_name = \"keyPair\"\n",
    "    private_key = key.export_key(\"PEM\")\n",
    "    private_key_filename = os.path.join(dir_name, \"key\")\n",
    "    with open(private_key_filename, \"wb\") as fd:\n",
    "        fd.write(private_key)\n",
    "    os.chmod(private_key_filename, 0o600) \n",
    "\n",
    "    public_key = key.publickey().export_key(\"OpenSSH\")\n",
    "    public_key_filename = os.path.join(dir_name, \"key_pub\")\n",
    "    with open(public_key_filename, \"wb\") as fd:\n",
    "        fd.write(public_key)\n",
    "    os.chmod(public_key_filename, 0o600)\n",
    "\n",
    "    #signing\n",
    "    private_key = RSA.import_key(open('keyPair\\\\key').read())\n",
    "    signature = pkcs1_15.new(private_key).sign(hashedFile)\n",
    "    \n",
    "    sign_filename = os.path.join(\"signatures\", \"digitSign\")\n",
    "    with open(sign_filename, \"wb\") as fd:\n",
    "        fd.write(signature)\n",
    "    os.chmod(sign_filename, 0o600)\n",
    "\n",
    "\n",
    "elif(choice == 1):\n",
    "    hashedFile = readingFile()\n",
    "    print(\"Type signature name\")\n",
    "    signPath = str(input())\n",
    "    signatureToVerify = open(\"signatures\\\\\" + signPath, \"rb\").read()\n",
    "    public_key = RSA.import_key(open(\"keyPair\\\\key_pub\").read())\n",
    "\n",
    "    #decrypting\n",
    "    verifier = PKCS115_SigScheme(public_key)\n",
    "    \n",
    "    try:\n",
    "        verifier.verify(hashedFile,signatureToVerify)\n",
    "        print(\"Signature valid\")\n",
    "    except:\n",
    "        print(\"Signature invalid\")"
   ]
  }
 ],
 "metadata": {
  "interpreter": {
   "hash": "1211828d9e45cb2e9676ee7fcf51b096b9371830e415cdb722ec6a668e297338"
  },
  "kernelspec": {
   "display_name": "Python 3.9.5 ('base')",
   "language": "python",
   "name": "python3"
  },
  "language_info": {
   "codemirror_mode": {
    "name": "ipython",
    "version": 3
   },
   "file_extension": ".py",
   "mimetype": "text/x-python",
   "name": "python",
   "nbconvert_exporter": "python",
   "pygments_lexer": "ipython3",
   "version": "3.9.5"
  },
  "orig_nbformat": 4
 },
 "nbformat": 4,
 "nbformat_minor": 2
}
